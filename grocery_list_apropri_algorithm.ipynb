{
 "cells": [
  {
   "metadata": {},
   "cell_type": "markdown",
   "source": [
    "# ***Grocery List Apriori Algorithm***\n",
    "---"
   ],
   "id": "b0c937843239e528"
  },
  {
   "metadata": {},
   "cell_type": "markdown",
   "source": [
    "## Purpose:\n",
    "The purpose of this jupyter notebook is to take a grocery list (provided here by the kind folks at Kaggle: https://www.kaggle.com/datasets/heeraldedhia/groceries-dataset ) and create an Apriori Algorithm from scratch in order to create association rules for grocery items. In layman's terms:\n",
    "1) If a customer goes to the store, how likely are they to buy milk and bread **(Support)?**\n",
    "2) If they buy milk, how confident are we that they will also buy bread **(Confidence)?**\n",
    "3) When controlled for the fact that almost everyone buys milk at the store, does milk actually increase the likelihood that someone will buy bread **(lift)?**\n",
    "\n",
    "These association rules can be applied to purchasing patterns (market basket analysis), netflix / youtube / spotify / etc watching and listening patterns (content recommendation), fraud detection, healthcare diagnosis, inventory management, and so much more! There are prebuilt Apriori packages for Python, but in order to test and improve my programming, math, and reasoning skills - I'm building this one from scratch."
   ],
   "id": "edad5b4f73bbcd7d"
  },
  {
   "metadata": {},
   "cell_type": "markdown",
   "source": [
    "## The Math Behind Apriori\n",
    "---"
   ],
   "id": "2fe055be58f4974b"
  },
  {
   "metadata": {},
   "cell_type": "markdown",
   "source": [
    "There are three important metrics with the apriori algorithm. I will explain the use case, as well as how to calculate them so that we have a strict understanding of what we need to program.\n",
    "1) **Support:** How likely a set of items is to appear on a receipt. This is the probability of milk and bread together. It can be calculated by: (#times milk and bread appears on receipts together / total receipts)\n",
    "2) **Confidence:** How likely a person is to buy item B if they buy item A. It can be calculated by: support / P item B (#times bread appears on receipts / total receipts).\n",
    "3) **Lift:** When you control for how likely it is for someone to buy milk, is there still a correlation between someone buying milk and then buying bread, would they be just as likely to buy bread without milk, and does buying milk have a negative correlation - meaning does someone buying milk make them LESS likely to buy bread? This can be calculated by: Confidence / P of item A (#times milk appears on receipts)\n",
    "\n",
    "When it gets time to choose what items to showcase, I'll explain these numbers in greater detail."
   ],
   "id": "626036b02424d572"
  },
  {
   "metadata": {},
   "cell_type": "markdown",
   "source": [
    "# The Code\n",
    "---"
   ],
   "id": "de501d79f4f96125"
  },
  {
   "metadata": {
    "ExecuteTime": {
     "end_time": "2025-01-25T20:06:14.805697Z",
     "start_time": "2025-01-25T20:06:14.751160Z"
    }
   },
   "cell_type": "code",
   "source": [
    "# Importing packages and creating global variables.\n",
    "import itertools\n",
    "from collections import defaultdict\n",
    "import pandas as pd\n",
    "GROCERIES = pd.read_csv(\"Groceries_dataset.csv\")\n",
    "display(GROCERIES.head())\n",
    "grocery_lists = defaultdict(int)\n",
    "member_numbers = []\n",
    "item_combos = []\n",
    "combo_counts = defaultdict(int)\n",
    "item_counts = defaultdict(int)\n",
    "ASSOCIATION_RULES = {}"
   ],
   "id": "613176948e0ef79b",
   "outputs": [
    {
     "data": {
      "text/plain": [
       "   Member_number        Date   itemDescription\n",
       "0           1808  21-07-2015    tropical fruit\n",
       "1           2552  05-01-2015        whole milk\n",
       "2           2300  19-09-2015         pip fruit\n",
       "3           1187  12-12-2015  other vegetables\n",
       "4           3037  01-02-2015        whole milk"
      ],
      "text/html": [
       "<div>\n",
       "<style scoped>\n",
       "    .dataframe tbody tr th:only-of-type {\n",
       "        vertical-align: middle;\n",
       "    }\n",
       "\n",
       "    .dataframe tbody tr th {\n",
       "        vertical-align: top;\n",
       "    }\n",
       "\n",
       "    .dataframe thead th {\n",
       "        text-align: right;\n",
       "    }\n",
       "</style>\n",
       "<table border=\"1\" class=\"dataframe\">\n",
       "  <thead>\n",
       "    <tr style=\"text-align: right;\">\n",
       "      <th></th>\n",
       "      <th>Member_number</th>\n",
       "      <th>Date</th>\n",
       "      <th>itemDescription</th>\n",
       "    </tr>\n",
       "  </thead>\n",
       "  <tbody>\n",
       "    <tr>\n",
       "      <th>0</th>\n",
       "      <td>1808</td>\n",
       "      <td>21-07-2015</td>\n",
       "      <td>tropical fruit</td>\n",
       "    </tr>\n",
       "    <tr>\n",
       "      <th>1</th>\n",
       "      <td>2552</td>\n",
       "      <td>05-01-2015</td>\n",
       "      <td>whole milk</td>\n",
       "    </tr>\n",
       "    <tr>\n",
       "      <th>2</th>\n",
       "      <td>2300</td>\n",
       "      <td>19-09-2015</td>\n",
       "      <td>pip fruit</td>\n",
       "    </tr>\n",
       "    <tr>\n",
       "      <th>3</th>\n",
       "      <td>1187</td>\n",
       "      <td>12-12-2015</td>\n",
       "      <td>other vegetables</td>\n",
       "    </tr>\n",
       "    <tr>\n",
       "      <th>4</th>\n",
       "      <td>3037</td>\n",
       "      <td>01-02-2015</td>\n",
       "      <td>whole milk</td>\n",
       "    </tr>\n",
       "  </tbody>\n",
       "</table>\n",
       "</div>"
      ]
     },
     "metadata": {},
     "output_type": "display_data"
    }
   ],
   "execution_count": 4
  },
  {
   "metadata": {
    "ExecuteTime": {
     "end_time": "2025-01-25T20:06:14.835024Z",
     "start_time": "2025-01-25T20:06:14.827551Z"
    }
   },
   "cell_type": "code",
   "source": [
    "def create_member_list():\n",
    "    \"\"\"Creates a list of member numbers in order to see what they buy at the store to determine relationships.\"\"\"\n",
    "    for member_num in GROCERIES['Member_number']:\n",
    "        if member_num not in member_numbers:\n",
    "            member_numbers.append(member_num)"
   ],
   "id": "27132924e53d49b3",
   "outputs": [],
   "execution_count": 5
  },
  {
   "metadata": {
    "ExecuteTime": {
     "end_time": "2025-01-25T20:06:14.927840Z",
     "start_time": "2025-01-25T20:06:14.918288Z"
    }
   },
   "cell_type": "code",
   "source": [
    "def create_grocery_list():\n",
    "    \"\"\"Uses member numbers to sort the items they bought into lists.\"\"\"\n",
    "    for i in member_numbers:\n",
    "        grocery_lists.update({i: GROCERIES[GROCERIES['Member_number'] == i]['itemDescription'].values})"
   ],
   "id": "435aa44e252783c4",
   "outputs": [],
   "execution_count": 6
  },
  {
   "metadata": {
    "ExecuteTime": {
     "end_time": "2025-01-25T20:06:15.122159Z",
     "start_time": "2025-01-25T20:06:15.112949Z"
    }
   },
   "cell_type": "code",
   "source": [
    "def create_combos():\n",
    "    \"\"\"Creates every possible item combo that could be made from member lists. This also counts the number times an item appears in a list. We only count the item once per list, even if the member bought 6 gallons of milk in that time period.\"\"\"\n",
    "    for list in grocery_lists:\n",
    "        for item in grocery_lists[list]:\n",
    "            if item in grocery_lists[list]:\n",
    "                item_counts[item] += 1\n",
    "        item_combos.append(set(itertools.combinations(grocery_lists[list], 2)))"
   ],
   "id": "e5fefa65b9a3833b",
   "outputs": [],
   "execution_count": 7
  },
  {
   "metadata": {
    "ExecuteTime": {
     "end_time": "2025-01-25T20:06:15.160188Z",
     "start_time": "2025-01-25T20:06:15.149750Z"
    }
   },
   "cell_type": "code",
   "source": [
    "def count_combos():\n",
    "    \"\"\" Counts how often the items are paired together. Makes sure it counts a,b and b,a because combinations doesn't account for flipping the order.\"\"\"\n",
    "    for items in item_combos:\n",
    "        for item in items:\n",
    "            combo_counts[(item[0], item[1])] += 1\n",
    "            combo_counts[(item[1], item[0])] += 1"
   ],
   "id": "abba054a6a786eb",
   "outputs": [],
   "execution_count": 8
  },
  {
   "metadata": {},
   "cell_type": "markdown",
   "source": [
    "### Important Math Ideas\n",
    "---\n",
    "Coming back to the 3 values we talked about earlier, here is a bit more information about what they mean:\n",
    "1) ### **Support:**\n",
    "- **Very Low Support (Under 0.1%):** Should only be used when determining rare but critical associations. Most commonly used in healthcare or fraud detection, when the consequences of not noticing the relationship could be dire.\n",
    "- **Low to Medium Support (0.1% - 5%):** Looking at interesting patterns. Most commonly used in Market Basket Analysis.\n",
    "- **High Support > 5%:** Captures extremely common associations.\n",
    "- Keep in mind that we have about 3800 members in that list. a 0.1% support would only be us trying to make a decision off 3.8 receipts, which isn't a good idea. This is why I chose a support of 1% and higher.\n",
    "2) ### **Confidence:**\n",
    "- **Low Confidence (<50%):** Too weak of a confidence to be accepted in most contexts.\n",
    "- **Medium Confidence (50-70%):** Indicates strong associations. Often most used in market basket analysis.\n",
    "- **High Confidence (>70%):** Strong associations, especially if there is high lift and support.\n",
    "- **Very High Confidence (>90%):** Be careful! This could be from errors or a rule that is very ridiculous. (This is how I caught that I was double and trip counting items, because the confidence of someone buying milk on one trip to the store followed buying milk on a subsequent visit is extremely high).\n",
    "3) ### **Lift:**\n",
    "- **Lift = 1:** A and B are independent of each other (meaning there isn't an association)\n",
    "- **Lift > 1: A** and B are positively correlated. This means that A increases the likelihood of B)\n",
    "- **Lift <1: A** and B are Negatively Correlated. (A decreases the likelihood of B).\n",
    "- All 3 numbers are interesting! For this, the goal was to find if buying A will increase B, so I will use a lift of > 1."
   ],
   "id": "af82a11876a3abd8"
  },
  {
   "metadata": {
    "ExecuteTime": {
     "end_time": "2025-01-25T20:06:15.202525Z",
     "start_time": "2025-01-25T20:06:15.193178Z"
    }
   },
   "cell_type": "code",
   "source": [
    "def create_association_rules():\n",
    "    \"\"\"Creates the support, confidence, and lift values for each group of items to determine which ones are most likely to be purchased\n",
    "    together.\"\"\"\n",
    "    for a,b in combo_counts:\n",
    "        support = round(combo_counts[a,b] / len(grocery_lists), 3)\n",
    "        confidence = round(support / (item_counts[a] / len(grocery_lists)), 3)\n",
    "        lift = round(confidence / (item_counts[b] / len(grocery_lists)), 3)\n",
    "        if support >= 0.01 and confidence >= 0.5 and lift >= 1:\n",
    "            ASSOCIATION_RULES[a,b]= {'support':support, 'confidence':confidence, 'lift':lift}"
   ],
   "id": "165c10bd358d139f",
   "outputs": [],
   "execution_count": 9
  },
  {
   "metadata": {
    "ExecuteTime": {
     "end_time": "2025-01-25T20:06:15.284224Z",
     "start_time": "2025-01-25T20:06:15.277171Z"
    }
   },
   "cell_type": "code",
   "source": [
    "def association_rule_csv():\n",
    "    association_rules_df = pd.DataFrame(ASSOCIATION_RULES).transpose()\n",
    "    display(association_rules_df)\n",
    "    association_rules_df.to_csv('ASSOCIATION_RULES.csv')"
   ],
   "id": "585853e732913dea",
   "outputs": [],
   "execution_count": 10
  },
  {
   "metadata": {
    "ExecuteTime": {
     "end_time": "2025-01-25T20:06:19.222297Z",
     "start_time": "2025-01-25T20:06:15.422339Z"
    }
   },
   "cell_type": "code",
   "source": [
    "create_member_list()\n",
    "create_grocery_list()\n",
    "create_combos()\n",
    "count_combos()\n",
    "create_association_rules()\n",
    "association_rule_csv()"
   ],
   "id": "b5350a3c78f9d96",
   "outputs": [
    {
     "data": {
      "text/plain": [
       "                                      support  confidence   lift\n",
       "pot plants          other vegetables    0.016       0.529  1.086\n",
       "liquor              whole milk          0.019       0.719  1.120\n",
       "mustard             whole milk          0.017       0.720  1.122\n",
       "liquor (appetizer)  soda                0.010       0.582  1.498\n",
       "UHT-milk            other vegetables    0.044       0.531  1.091\n",
       "semi-finished bread other vegetables    0.019       0.522  1.072\n",
       "soft cheese         other vegetables    0.020       0.513  1.054\n",
       "specialty chocolate other vegetables    0.031       0.503  1.033\n",
       "specialty bar       other vegetables    0.027       0.501  1.029\n",
       "cat food            other vegetables    0.026       0.573  1.177\n",
       "chewing gum         whole milk          0.030       0.646  1.006\n",
       "hard cheese         other vegetables    0.029       0.514  1.056\n",
       "baking powder       other vegetables    0.016       0.511  1.049\n",
       "spread cheese       other vegetables    0.013       0.507  1.041\n",
       "canned fish         rolls/buns          0.015       0.504  1.145\n",
       "dishes              whole milk          0.023       0.664  1.034\n",
       "red/blush wine      rolls/buns          0.021       0.521  1.183\n",
       "condensed milk      other vegetables    0.014       0.557  1.144\n",
       "liquor              other vegetables    0.014       0.530  1.088\n",
       "condensed milk      whole milk          0.017       0.676  1.053\n",
       "zwieback            whole milk          0.011       0.715  1.114\n",
       "instant coffee      other vegetables    0.010       0.639  1.312\n",
       "pet care            rolls/buns          0.011       0.504  1.145\n",
       "                    other vegetables    0.011       0.504  1.035"
      ],
      "text/html": [
       "<div>\n",
       "<style scoped>\n",
       "    .dataframe tbody tr th:only-of-type {\n",
       "        vertical-align: middle;\n",
       "    }\n",
       "\n",
       "    .dataframe tbody tr th {\n",
       "        vertical-align: top;\n",
       "    }\n",
       "\n",
       "    .dataframe thead th {\n",
       "        text-align: right;\n",
       "    }\n",
       "</style>\n",
       "<table border=\"1\" class=\"dataframe\">\n",
       "  <thead>\n",
       "    <tr style=\"text-align: right;\">\n",
       "      <th></th>\n",
       "      <th></th>\n",
       "      <th>support</th>\n",
       "      <th>confidence</th>\n",
       "      <th>lift</th>\n",
       "    </tr>\n",
       "  </thead>\n",
       "  <tbody>\n",
       "    <tr>\n",
       "      <th>pot plants</th>\n",
       "      <th>other vegetables</th>\n",
       "      <td>0.016</td>\n",
       "      <td>0.529</td>\n",
       "      <td>1.086</td>\n",
       "    </tr>\n",
       "    <tr>\n",
       "      <th>liquor</th>\n",
       "      <th>whole milk</th>\n",
       "      <td>0.019</td>\n",
       "      <td>0.719</td>\n",
       "      <td>1.120</td>\n",
       "    </tr>\n",
       "    <tr>\n",
       "      <th>mustard</th>\n",
       "      <th>whole milk</th>\n",
       "      <td>0.017</td>\n",
       "      <td>0.720</td>\n",
       "      <td>1.122</td>\n",
       "    </tr>\n",
       "    <tr>\n",
       "      <th>liquor (appetizer)</th>\n",
       "      <th>soda</th>\n",
       "      <td>0.010</td>\n",
       "      <td>0.582</td>\n",
       "      <td>1.498</td>\n",
       "    </tr>\n",
       "    <tr>\n",
       "      <th>UHT-milk</th>\n",
       "      <th>other vegetables</th>\n",
       "      <td>0.044</td>\n",
       "      <td>0.531</td>\n",
       "      <td>1.091</td>\n",
       "    </tr>\n",
       "    <tr>\n",
       "      <th>semi-finished bread</th>\n",
       "      <th>other vegetables</th>\n",
       "      <td>0.019</td>\n",
       "      <td>0.522</td>\n",
       "      <td>1.072</td>\n",
       "    </tr>\n",
       "    <tr>\n",
       "      <th>soft cheese</th>\n",
       "      <th>other vegetables</th>\n",
       "      <td>0.020</td>\n",
       "      <td>0.513</td>\n",
       "      <td>1.054</td>\n",
       "    </tr>\n",
       "    <tr>\n",
       "      <th>specialty chocolate</th>\n",
       "      <th>other vegetables</th>\n",
       "      <td>0.031</td>\n",
       "      <td>0.503</td>\n",
       "      <td>1.033</td>\n",
       "    </tr>\n",
       "    <tr>\n",
       "      <th>specialty bar</th>\n",
       "      <th>other vegetables</th>\n",
       "      <td>0.027</td>\n",
       "      <td>0.501</td>\n",
       "      <td>1.029</td>\n",
       "    </tr>\n",
       "    <tr>\n",
       "      <th>cat food</th>\n",
       "      <th>other vegetables</th>\n",
       "      <td>0.026</td>\n",
       "      <td>0.573</td>\n",
       "      <td>1.177</td>\n",
       "    </tr>\n",
       "    <tr>\n",
       "      <th>chewing gum</th>\n",
       "      <th>whole milk</th>\n",
       "      <td>0.030</td>\n",
       "      <td>0.646</td>\n",
       "      <td>1.006</td>\n",
       "    </tr>\n",
       "    <tr>\n",
       "      <th>hard cheese</th>\n",
       "      <th>other vegetables</th>\n",
       "      <td>0.029</td>\n",
       "      <td>0.514</td>\n",
       "      <td>1.056</td>\n",
       "    </tr>\n",
       "    <tr>\n",
       "      <th>baking powder</th>\n",
       "      <th>other vegetables</th>\n",
       "      <td>0.016</td>\n",
       "      <td>0.511</td>\n",
       "      <td>1.049</td>\n",
       "    </tr>\n",
       "    <tr>\n",
       "      <th>spread cheese</th>\n",
       "      <th>other vegetables</th>\n",
       "      <td>0.013</td>\n",
       "      <td>0.507</td>\n",
       "      <td>1.041</td>\n",
       "    </tr>\n",
       "    <tr>\n",
       "      <th>canned fish</th>\n",
       "      <th>rolls/buns</th>\n",
       "      <td>0.015</td>\n",
       "      <td>0.504</td>\n",
       "      <td>1.145</td>\n",
       "    </tr>\n",
       "    <tr>\n",
       "      <th>dishes</th>\n",
       "      <th>whole milk</th>\n",
       "      <td>0.023</td>\n",
       "      <td>0.664</td>\n",
       "      <td>1.034</td>\n",
       "    </tr>\n",
       "    <tr>\n",
       "      <th>red/blush wine</th>\n",
       "      <th>rolls/buns</th>\n",
       "      <td>0.021</td>\n",
       "      <td>0.521</td>\n",
       "      <td>1.183</td>\n",
       "    </tr>\n",
       "    <tr>\n",
       "      <th>condensed milk</th>\n",
       "      <th>other vegetables</th>\n",
       "      <td>0.014</td>\n",
       "      <td>0.557</td>\n",
       "      <td>1.144</td>\n",
       "    </tr>\n",
       "    <tr>\n",
       "      <th>liquor</th>\n",
       "      <th>other vegetables</th>\n",
       "      <td>0.014</td>\n",
       "      <td>0.530</td>\n",
       "      <td>1.088</td>\n",
       "    </tr>\n",
       "    <tr>\n",
       "      <th>condensed milk</th>\n",
       "      <th>whole milk</th>\n",
       "      <td>0.017</td>\n",
       "      <td>0.676</td>\n",
       "      <td>1.053</td>\n",
       "    </tr>\n",
       "    <tr>\n",
       "      <th>zwieback</th>\n",
       "      <th>whole milk</th>\n",
       "      <td>0.011</td>\n",
       "      <td>0.715</td>\n",
       "      <td>1.114</td>\n",
       "    </tr>\n",
       "    <tr>\n",
       "      <th>instant coffee</th>\n",
       "      <th>other vegetables</th>\n",
       "      <td>0.010</td>\n",
       "      <td>0.639</td>\n",
       "      <td>1.312</td>\n",
       "    </tr>\n",
       "    <tr>\n",
       "      <th rowspan=\"2\" valign=\"top\">pet care</th>\n",
       "      <th>rolls/buns</th>\n",
       "      <td>0.011</td>\n",
       "      <td>0.504</td>\n",
       "      <td>1.145</td>\n",
       "    </tr>\n",
       "    <tr>\n",
       "      <th>other vegetables</th>\n",
       "      <td>0.011</td>\n",
       "      <td>0.504</td>\n",
       "      <td>1.035</td>\n",
       "    </tr>\n",
       "  </tbody>\n",
       "</table>\n",
       "</div>"
      ]
     },
     "metadata": {},
     "output_type": "display_data"
    }
   ],
   "execution_count": 11
  },
  {
   "metadata": {},
   "cell_type": "markdown",
   "source": "The most interesting associations are: People who buy milk also buy the following: mustard (72% confidence), liquor (71.9%), zwieback(71.5%), condensed milk (67.6%). It seems that there appears to be associations between other vegetables and rolls/buns and different items as well. These associations can help us create either recommendations on mobile ordering platforms, or coupons to encourage increased buying habits.",
   "id": "8d831f77f2efa605"
  },
  {
   "metadata": {},
   "cell_type": "markdown",
   "source": [
    "## Conclusion\n",
    "---\n",
    "Thank you so much for exploring the Apriori Algorithm with me. It's use cases are so interesting, from healthcare, to market basket analysis, to fraud detection - this is one I definitely will add to my toolbelt. (Albeit, I'll use the prebuilt algorithm next time to save myself 4 or so hours). If you found this interesting, feel free to connect with me on https://www.linkedin.com/in/pskavs1775/ or read some of my blogs found here: https://medium.com/@pskavs"
   ],
   "id": "7f2167c6cd4c3cde"
  }
 ],
 "metadata": {
  "kernelspec": {
   "display_name": "Python 3",
   "language": "python",
   "name": "python3"
  },
  "language_info": {
   "codemirror_mode": {
    "name": "ipython",
    "version": 2
   },
   "file_extension": ".py",
   "mimetype": "text/x-python",
   "name": "python",
   "nbconvert_exporter": "python",
   "pygments_lexer": "ipython2",
   "version": "2.7.6"
  }
 },
 "nbformat": 4,
 "nbformat_minor": 5
}
